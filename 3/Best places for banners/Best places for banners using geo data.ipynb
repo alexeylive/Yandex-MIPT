{
 "cells": [
  {
   "cell_type": "code",
   "execution_count": 1,
   "metadata": {},
   "outputs": [],
   "source": [
    "# Import\n",
    "from sklearn.cluster import MeanShift\n",
    "import numpy as np\n",
    "import csv\n",
    "import pandas as pd\n",
    "from scipy.spatial import distance"
   ]
  },
  {
   "cell_type": "code",
   "execution_count": 2,
   "metadata": {},
   "outputs": [],
   "source": [
    "# To format a csv file\n",
    "# with open('checkins.dat') as dat_file, open('file.csv', 'w') as csv_file:\n",
    "#     csv_writer = csv.writer(csv_file)\n",
    "\n",
    "#     for line in dat_file:\n",
    "#         row = [field.strip() for field in line.split('|')]\n",
    "#         if len(row) == 6 and row[3] and row[4]:\n",
    "#             csv_writer.writerow(row)"
   ]
  },
  {
   "cell_type": "code",
   "execution_count": 3,
   "metadata": {},
   "outputs": [],
   "source": [
    "# Reading dataset into DF, creating training sample\n",
    "df = pd.read_csv('file.csv')\n",
    "df_train = df.iloc[:100000]"
   ]
  },
  {
   "cell_type": "code",
   "execution_count": 4,
   "metadata": {},
   "outputs": [],
   "source": [
    "# Creating model and training it\n",
    "alg = MeanShift(bandwidth=0.1).fit(df_train[['latitude', 'longitude']].values)\n",
    "# Getting predicts\n",
    "predicts = alg.predict(df[['latitude', 'longitude']].values)\n",
    "# Searching for clusters by the number of checks > 15\n",
    "df['Cluster'] = predicts\n",
    "checkout_num_in_clust = df.reset_index().groupby('Cluster')['index'].count()\n",
    "checkout_num_in_clust = checkout_num_in_clust[checkout_num_in_clust > 15]\n",
    "correct_clust = checkout_num_in_clust.index.values"
   ]
  },
  {
   "cell_type": "code",
   "execution_count": 27,
   "metadata": {},
   "outputs": [],
   "source": [
    "# Getting cluster centers\n",
    "clust_centers = alg.cluster_centers_\n",
    "df_centers = pd.DataFrame(clust_centers, columns=['latitude', 'longitude'])\n",
    "# Filtering clusters and coords\n",
    "df_suitable_clust = df_centers[df_centers.index.isin(correct_clust)]"
   ]
  },
  {
   "cell_type": "code",
   "execution_count": 28,
   "metadata": {},
   "outputs": [
    {
     "name": "stderr",
     "output_type": "stream",
     "text": [
      "C:\\ProgramData\\Anaconda3\\lib\\site-packages\\pandas\\core\\indexing.py:362: SettingWithCopyWarning: \n",
      "A value is trying to be set on a copy of a slice from a DataFrame.\n",
      "Try using .loc[row_indexer,col_indexer] = value instead\n",
      "\n",
      "See the caveats in the documentation: http://pandas.pydata.org/pandas-docs/stable/indexing.html#indexing-view-versus-copy\n",
      "  self.obj[key] = _infer_fill_value(value)\n",
      "C:\\ProgramData\\Anaconda3\\lib\\site-packages\\pandas\\core\\indexing.py:630: SettingWithCopyWarning: \n",
      "A value is trying to be set on a copy of a slice from a DataFrame.\n",
      "Try using .loc[row_indexer,col_indexer] = value instead\n",
      "\n",
      "See the caveats in the documentation: http://pandas.pydata.org/pandas-docs/stable/indexing.html#indexing-view-versus-copy\n",
      "  self.obj[item_labels[indexer[info_axis]]] = value\n"
     ]
    }
   ],
   "source": [
    "# Offices coords from Google\n",
    "coord_offices = np.array([[33.751277, -118.188740],\n",
    "                          [25.867736, -80.324116],\n",
    "                          [51.503016, -0.075479],\n",
    "                          [52.378894, 4.885084],\n",
    "                          [39.366487, 117.036146],\n",
    "                          [-33.868457, 151.205134]])\n",
    "# Calculating distances between every clust and every office\n",
    "clust_dist = distance.cdist(df_suitable_clust.values, coord_offices)\n",
    "# Calculating min distance for every clust\n",
    "df_suitable_clust.loc[:,'min dist to office'] = list(map(lambda x: x.min(), clust_dist))\n",
    "# Searching for the 20 places closest to offices\n",
    "top_20_clust = df_suitable_clust.sort_values('min dist to office').head(20)\n",
    "# Searching for the closest clust\n",
    "final_res = str((top_20_clust.head(1)).values[:,:2])[2:-2]"
   ]
  },
  {
   "cell_type": "code",
   "execution_count": 134,
   "metadata": {},
   "outputs": [],
   "source": [
    "# Writting answer\n",
    "with open('res_clust_1.txt', 'w') as f:\n",
    "    f.write(final_res)"
   ]
  }
 ],
 "metadata": {
  "kernelspec": {
   "display_name": "Python 3",
   "language": "python",
   "name": "python3"
  },
  "language_info": {
   "codemirror_mode": {
    "name": "ipython",
    "version": 3
   },
   "file_extension": ".py",
   "mimetype": "text/x-python",
   "name": "python",
   "nbconvert_exporter": "python",
   "pygments_lexer": "ipython3",
   "version": "3.7.1"
  }
 },
 "nbformat": 4,
 "nbformat_minor": 2
}
