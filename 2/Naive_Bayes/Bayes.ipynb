{
 "cells": [
  {
   "cell_type": "code",
   "execution_count": 1,
   "metadata": {},
   "outputs": [],
   "source": [
    "from sklearn import datasets, model_selection, naive_bayes"
   ]
  },
  {
   "cell_type": "code",
   "execution_count": 25,
   "metadata": {},
   "outputs": [],
   "source": [
    "def write_answer_to_file(answer, filename):\n",
    "    print(answer)\n",
    "    with open(filename, 'w') as f_out:\n",
    "        f_out.write(str(answer))"
   ]
  },
  {
   "cell_type": "code",
   "execution_count": 24,
   "metadata": {},
   "outputs": [
    {
     "name": "stdout",
     "output_type": "stream",
     "text": [
      "Some data from digits:\n",
      " [[ 0.  0.  5. 13.  9.  1.  0.  0.  0.  0. 13. 15. 10. 15.  5.  0.  0.  3.\n",
      "  15.  2.  0. 11.  8.  0.  0.  4. 12.  0.  0.  8.  8.  0.  0.  5.  8.  0.\n",
      "   0.  9.  8.  0.  0.  4. 11.  0.  1. 12.  7.  0.  0.  2. 14.  5. 10. 12.\n",
      "   0.  0.  0.  0.  6. 13. 10.  0.  0.  0.]\n",
      " [ 0.  0.  0. 12. 13.  5.  0.  0.  0.  0.  0. 11. 16.  9.  0.  0.  0.  0.\n",
      "   3. 15. 16.  6.  0.  0.  0.  7. 15. 16. 16.  2.  0.  0.  0.  0.  1. 16.\n",
      "  16.  3.  0.  0.  0.  0.  1. 16. 16.  6.  0.  0.  0.  0.  1. 16. 16.  6.\n",
      "   0.  0.  0.  0.  0. 11. 16. 10.  0.  0.]] \n",
      "Some data from breast_cancer:\n",
      " [[1.799e+01 1.038e+01 1.228e+02 1.001e+03 1.184e-01 2.776e-01 3.001e-01\n",
      "  1.471e-01 2.419e-01 7.871e-02 1.095e+00 9.053e-01 8.589e+00 1.534e+02\n",
      "  6.399e-03 4.904e-02 5.373e-02 1.587e-02 3.003e-02 6.193e-03 2.538e+01\n",
      "  1.733e+01 1.846e+02 2.019e+03 1.622e-01 6.656e-01 7.119e-01 2.654e-01\n",
      "  4.601e-01 1.189e-01]\n",
      " [2.057e+01 1.777e+01 1.329e+02 1.326e+03 8.474e-02 7.864e-02 8.690e-02\n",
      "  7.017e-02 1.812e-01 5.667e-02 5.435e-01 7.339e-01 3.398e+00 7.408e+01\n",
      "  5.225e-03 1.308e-02 1.860e-02 1.340e-02 1.389e-02 3.532e-03 2.499e+01\n",
      "  2.341e+01 1.588e+02 1.956e+03 1.238e-01 1.866e-01 2.416e-01 1.860e-01\n",
      "  2.750e-01 8.902e-02]]\n"
     ]
    }
   ],
   "source": [
    "digits = datasets.load_digits()\n",
    "cancer = datasets.load_breast_cancer()\n",
    "print('Some data from digits:\\n', digits['data'][0:2],\n",
    "      '\\nSome data from breast_cancer:\\n', cancer['data'][0:2])"
   ]
  },
  {
   "cell_type": "code",
   "execution_count": 26,
   "metadata": {},
   "outputs": [
    {
     "name": "stdout",
     "output_type": "stream",
     "text": [
      "Discrete features\n",
      " GaussianNB : 0.8186003803550138\n",
      "Real features\n",
      " GaussianNB : 0.9367492806089297\n",
      "Discrete features\n",
      " MultinomialNB : 0.8708771489735053\n",
      "Real features\n",
      " MultinomialNB : 0.8945790401930752\n",
      "Discrete features\n",
      " BernoulliNB : 0.8258236507780582\n",
      "Real features\n",
      " BernoulliNB : 0.6274204028589994\n"
     ]
    }
   ],
   "source": [
    "results = []\n",
    "for estim in [naive_bayes.GaussianNB(), naive_bayes.MultinomialNB(),\n",
    "              naive_bayes.BernoulliNB()]:\n",
    "    for data in [digits, cancer]:\n",
    "        result = model_selection.cross_val_score(estim, data['data'],\n",
    "                                                 data['target'], cv = 3).mean()\n",
    "        results.append(result)\n",
    "        if data is digits: \n",
    "            feature = 'Discrete features\\n'\n",
    "        else:\n",
    "            feature = 'Real features\\n'\n",
    "        print(feature, estim.__str__().split('(')[0], ':', result)"
   ]
  },
  {
   "cell_type": "code",
   "execution_count": 28,
   "metadata": {},
   "outputs": [
    {
     "name": "stdout",
     "output_type": "stream",
     "text": [
      "0.9367492806089297\n",
      "0.8708771489735053\n",
      "3 4\n"
     ]
    }
   ],
   "source": [
    "write_answer_to_file(results[1], '1.txt')\n",
    "write_answer_to_file(results[2], '2.txt')\n",
    "write_answer_to_file('3 4', '3.txt')"
   ]
  }
 ],
 "metadata": {
  "kernelspec": {
   "display_name": "Python 3",
   "language": "python",
   "name": "python3"
  },
  "language_info": {
   "codemirror_mode": {
    "name": "ipython",
    "version": 3
   },
   "file_extension": ".py",
   "mimetype": "text/x-python",
   "name": "python",
   "nbconvert_exporter": "python",
   "pygments_lexer": "ipython3",
   "version": "3.7.1"
  }
 },
 "nbformat": 4,
 "nbformat_minor": 2
}
