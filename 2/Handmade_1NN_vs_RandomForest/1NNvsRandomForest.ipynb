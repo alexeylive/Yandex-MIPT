{
 "cells": [
  {
   "cell_type": "code",
   "execution_count": 1,
   "metadata": {},
   "outputs": [],
   "source": [
    "from sklearn import model_selection, ensemble, datasets, metrics\n",
    "import numpy as np"
   ]
  },
  {
   "cell_type": "code",
   "execution_count": 2,
   "metadata": {},
   "outputs": [],
   "source": [
    "def write_answer_to_file(answer, filename):\n",
    "    print(answer)\n",
    "    with open(filename, 'w') as f_out:\n",
    "        f_out.write(str(answer))"
   ]
  },
  {
   "cell_type": "code",
   "execution_count": 3,
   "metadata": {},
   "outputs": [],
   "source": [
    "digits = datasets.load_digits()\n",
    "X_train, X_test, y_train, y_test = model_selection.train_test_split(digits.data, digits.target,\n",
    "                                                                    test_size=0.25, shuffle=False)"
   ]
  },
  {
   "cell_type": "code",
   "execution_count": 4,
   "metadata": {},
   "outputs": [],
   "source": [
    "class One_NN():\n",
    "    def __init__(self):\n",
    "        self._X = np.array([])\n",
    "        self._y = np.array([])\n",
    "        \n",
    "    def train(self, X_tr, y_tr):\n",
    "        assert(isinstance(X_tr, np.ndarray) and isinstance(y_tr, np.ndarray))\n",
    "        self._X = X_tr\n",
    "        self._y = y_tr\n",
    "        \n",
    "    def predict(self, vec):\n",
    "        assert(isinstance(vec, np.ndarray))\n",
    "        if len(vec.shape) == 1:\n",
    "            return np.array([self._find_neighbor(vec)])\n",
    "        else:\n",
    "            prediction = []\n",
    "            for v in vec:\n",
    "                prediction += [self._find_neighbor(v)]\n",
    "            return np.array(prediction)\n",
    "               \n",
    "    def _find_neighbor(self, vec):\n",
    "        best_dist = np.inf\n",
    "        answer = -1\n",
    "        for ind, neighbor in enumerate(self._X):\n",
    "            neigh_dist = self._dist(vec, neighbor)\n",
    "            if neigh_dist < best_dist:\n",
    "                best_dist = neigh_dist\n",
    "                answer = self._y[ind]\n",
    "        return answer\n",
    "    \n",
    "    def _dist(self, vec1, vec2):\n",
    "        assert(len(vec1) == len(vec2))\n",
    "        return ((vec1 - vec2)**2).sum()"
   ]
  },
  {
   "cell_type": "code",
   "execution_count": 5,
   "metadata": {},
   "outputs": [
    {
     "name": "stdout",
     "output_type": "stream",
     "text": [
      "0.0377777777777778\n"
     ]
    }
   ],
   "source": [
    "estim = One_NN()\n",
    "estim.train(X_train, y_train)\n",
    "pred = estim.predict(X_test)\n",
    "write_answer_to_file(1 - metrics.accuracy_score(y_test, pred), '1.txt')"
   ]
  },
  {
   "cell_type": "code",
   "execution_count": 6,
   "metadata": {},
   "outputs": [
    {
     "name": "stdout",
     "output_type": "stream",
     "text": [
      "0.06222222222222218\n"
     ]
    }
   ],
   "source": [
    "estim = ensemble.RandomForestClassifier(n_estimators=1000)\n",
    "estim.fit(X_train, y_train)\n",
    "pred = estim.predict(X_test)\n",
    "write_answer_to_file(1 - metrics.accuracy_score(y_test, pred), '2.txt')"
   ]
  }
 ],
 "metadata": {
  "kernelspec": {
   "display_name": "Python 3",
   "language": "python",
   "name": "python3"
  },
  "language_info": {
   "codemirror_mode": {
    "name": "ipython",
    "version": 3
   },
   "file_extension": ".py",
   "mimetype": "text/x-python",
   "name": "python",
   "nbconvert_exporter": "python",
   "pygments_lexer": "ipython3",
   "version": "3.7.1"
  }
 },
 "nbformat": 4,
 "nbformat_minor": 2
}
