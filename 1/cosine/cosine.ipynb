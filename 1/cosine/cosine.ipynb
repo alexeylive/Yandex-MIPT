{
 "cells": [
  {
   "cell_type": "code",
   "execution_count": 7,
   "metadata": {},
   "outputs": [],
   "source": [
    "import re\n",
    "import scipy as sp\n",
    "import numpy as np\n",
    "from collections import defaultdict \n",
    "from collections import Counter \n",
    "from scipy.spatial import distance"
   ]
  },
  {
   "cell_type": "code",
   "execution_count": 8,
   "metadata": {
    "scrolled": true
   },
   "outputs": [
    {
     "name": "stdout",
     "output_type": "stream",
     "text": [
      "254\n"
     ]
    }
   ],
   "source": [
    "file = open('sentences.txt','r')\n",
    "words = defaultdict()\n",
    "ind = 0\n",
    "num = 0\n",
    "words_in_sent = defaultdict() \n",
    "for line in file.readlines():\n",
    "    result = [value for value in re.split('[^a-z]',line.lower()) if value != '']\n",
    "    words_in_sent[num] = Counter(result)\n",
    "    num += 1\n",
    "    for word in result:\n",
    "        if word in words.keys():\n",
    "            continue\n",
    "        else:\n",
    "            words[word] = ind\n",
    "            ind += 1\n",
    "print(len(words))\n",
    "file.close()"
   ]
  },
  {
   "cell_type": "code",
   "execution_count": 9,
   "metadata": {
    "scrolled": false
   },
   "outputs": [],
   "source": [
    "data = np.zeros((num, len(words)))\n",
    "for key,val in words_in_sent.items():\n",
    "    for word, num in val.items():\n",
    "        data[key,words[word]] = num"
   ]
  },
  {
   "cell_type": "code",
   "execution_count": 10,
   "metadata": {},
   "outputs": [],
   "source": [
    "places = []\n",
    "for sent in range(1,data.shape[0]):\n",
    "    places.append((sent,distance.cosine(data[0],data[sent])))\n",
    "places.sort(key = lambda x:x[1], reverse = True)"
   ]
  },
  {
   "cell_type": "code",
   "execution_count": 11,
   "metadata": {},
   "outputs": [],
   "source": [
    "with open('submission-1.txt', 'w') as w_file:\n",
    "    sent = str(places[0][0]) + ' ' + str(places[1][0])\n",
    "    w_file.write(sent)"
   ]
  }
 ],
 "metadata": {
  "kernelspec": {
   "display_name": "Python 3",
   "language": "python",
   "name": "python3"
  },
  "language_info": {
   "codemirror_mode": {
    "name": "ipython",
    "version": 3
   },
   "file_extension": ".py",
   "mimetype": "text/x-python",
   "name": "python",
   "nbconvert_exporter": "python",
   "pygments_lexer": "ipython3",
   "version": "3.7.1"
  }
 },
 "nbformat": 4,
 "nbformat_minor": 2
}
